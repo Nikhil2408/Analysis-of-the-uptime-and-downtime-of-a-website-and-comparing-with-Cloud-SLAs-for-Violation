{
  "nbformat": 4,
  "nbformat_minor": 0,
  "metadata": {
    "colab": {
      "name": "Cloud_SLA_Voilation_Analysis.ipynb",
      "provenance": [],
      "include_colab_link": true
    },
    "kernelspec": {
      "name": "python3",
      "display_name": "Python 3"
    }
  },
  "cells": [
    {
      "cell_type": "markdown",
      "metadata": {
        "id": "view-in-github",
        "colab_type": "text"
      },
      "source": [
        "<a href=\"https://colab.research.google.com/github/tushar821999/Pandas_Library/blob/master/Cloud_SLA_Voilation_Analysis.ipynb\" target=\"_parent\"><img src=\"https://colab.research.google.com/assets/colab-badge.svg\" alt=\"Open In Colab\"/></a>"
      ]
    },
    {
      "cell_type": "markdown",
      "metadata": {
        "id": "JOdcInj06wtw",
        "colab_type": "text"
      },
      "source": [
        "***DataSet Used***\n",
        "\n",
        "Active Link : [cloud_server_dataset](https://github.com/tushar821999/Pandas_Library/blob/master/Data%20Set/cloud_server.csv) "
      ]
    },
    {
      "cell_type": "code",
      "metadata": {
        "id": "MG_m5yGunnHk",
        "colab_type": "code",
        "outputId": "229f70d9-adf0-4d58-9823-9ee826997b69",
        "colab": {
          "base_uri": "https://localhost:8080/",
          "height": 294
        }
      },
      "source": [
        "import pandas as pd\n",
        "df = pd.read_csv('/content/cloud_server.csv')\n",
        "print(df)"
      ],
      "execution_count": 9,
      "outputs": [
        {
          "output_type": "stream",
          "text": [
            "         Date_Stamp Time_Stamp Server_Alpha_Status  Server_Numerical_Status\n",
            "0        12/13/2019    1:10:14           server up                      1.0\n",
            "1        12/13/2019    1:10:14           server up                      1.0\n",
            "2        12/13/2019    1:10:15           server up                      1.0\n",
            "3        12/13/2019    1:10:15           server up                      1.0\n",
            "4        12/13/2019    1:10:16           server up                      1.0\n",
            "...             ...        ...                 ...                      ...\n",
            "1048570         NaN        NaN                 NaN                      NaN\n",
            "1048571         NaN        NaN                 NaN                      NaN\n",
            "1048572         NaN        NaN                 NaN                      NaN\n",
            "1048573         NaN        NaN                 NaN                      NaN\n",
            "1048574         NaN        NaN                 NaN                      1.0\n",
            "\n",
            "[1048575 rows x 4 columns]\n"
          ],
          "name": "stdout"
        },
        {
          "output_type": "stream",
          "text": [
            "/usr/local/lib/python3.6/dist-packages/IPython/core/interactiveshell.py:2718: DtypeWarning: Columns (0,1,2) have mixed types.Specify dtype option on import or set low_memory=False.\n",
            "  interactivity=interactivity, compiler=compiler, result=result)\n"
          ],
          "name": "stderr"
        }
      ]
    },
    {
      "cell_type": "code",
      "metadata": {
        "id": "hqgWemllovSm",
        "colab_type": "code",
        "outputId": "f862630e-e464-4869-b0e4-1644e5e7cb85",
        "colab": {
          "base_uri": "https://localhost:8080/",
          "height": 86
        }
      },
      "source": [
        "import matplotlib.pyplot as plt\n",
        "server_status = df.groupby('Server_Alpha_Status')['Server_Numerical_Status'].count()\n",
        "print(server_status)"
      ],
      "execution_count": 7,
      "outputs": [
        {
          "output_type": "stream",
          "text": [
            "Server_Alpha_Status\n",
            "server down    207\n",
            "server up      526\n",
            "Name: Server_Numerical_Status, dtype: int64\n"
          ],
          "name": "stdout"
        }
      ]
    },
    {
      "cell_type": "code",
      "metadata": {
        "id": "lazaFJLGv4eU",
        "colab_type": "code",
        "outputId": "85e7e253-a854-4fc0-fdae-7eb9bc0e1ae7",
        "colab": {
          "base_uri": "https://localhost:8080/",
          "height": 104
        }
      },
      "source": [
        "server_status_unique = list(df.Server_Alpha_Status.unique())\n",
        "server_status = server_status.reindex(server_status_unique,axis=0)\n",
        "print(server_status)"
      ],
      "execution_count": 3,
      "outputs": [
        {
          "output_type": "stream",
          "text": [
            "Server_Alpha_Status\n",
            "server up      526.0\n",
            "server down    207.0\n",
            "NaN              NaN\n",
            "Name: Server_Numerical_Status, dtype: float64\n"
          ],
          "name": "stdout"
        }
      ]
    },
    {
      "cell_type": "code",
      "metadata": {
        "id": "MEZ6vSn6wl87",
        "colab_type": "code",
        "outputId": "330a2272-329a-4ef2-aca1-3098054bdf30",
        "colab": {
          "base_uri": "https://localhost:8080/",
          "height": 86
        }
      },
      "source": [
        "server_status = server_status.to_frame()\n",
        "print(server_status.head(12))\n",
        "server_status.reset_index(level=0,inplace=True)"
      ],
      "execution_count": 10,
      "outputs": [
        {
          "output_type": "stream",
          "text": [
            "                     Server_Numerical_Status\n",
            "Server_Alpha_Status                         \n",
            "server down                              207\n",
            "server up                                526\n"
          ],
          "name": "stdout"
        }
      ]
    },
    {
      "cell_type": "code",
      "metadata": {
        "id": "8utb8SV6uG5C",
        "colab_type": "code",
        "outputId": "c54d4585-6ed7-40bf-fcb3-b9a78f043fbc",
        "colab": {
          "base_uri": "https://localhost:8080/",
          "height": 686
        }
      },
      "source": [
        "plt.figure(figsize=(13,10))\n",
        "plt.bar(server_status['Server_Alpha_Status'],server_status['Server_Numerical_Status'],color=(0.5,0.1,0.5,0.6))\n",
        "plt.suptitle('Cloud Up Time / Down Time Analysis',fontsize=10)\n",
        "plt.title('Using Data from 13 DEC 2019 to 14 DEC 2019 (734 Rows | 4 Cols)',fontsize=20)\n",
        "plt.xlabel('Server Status',fontsize=20)\n",
        "plt.ylabel('Server Status Time In Seconds',fontsize=20)\n",
        "\n",
        "for i,num in enumerate(server_status['Server_Numerical_Status']):\n",
        "  plt.text(i,num,num,ha='center',fontsize=12)"
      ],
      "execution_count": 11,
      "outputs": [
        {
          "output_type": "display_data",
          "data": {
            "image/png": "[encoded data removed]",
            "text/plain": [
              "<Figure size 936x720 with 1 Axes>"
            ]
          },
          "metadata": {
            "tags": [],
            "needs_background": "light"
          }
        }
      ]
    }
  ]
}